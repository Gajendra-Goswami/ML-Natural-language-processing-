{
  "nbformat": 4,
  "nbformat_minor": 0,
  "metadata": {
    "colab": {
      "name": "NLP_ex1(text formatting).ipynb",
      "provenance": [],
      "collapsed_sections": []
    },
    "kernelspec": {
      "name": "python3",
      "display_name": "Python 3"
    },
    "language_info": {
      "name": "python"
    }
  },
  "cells": [
    {
      "cell_type": "code",
      "metadata": {
        "colab": {
          "base_uri": "https://localhost:8080/"
        },
        "id": "ksQqNOhZZCYa",
        "outputId": "9167c111-8c96-4f92-ce47-da35e8e8f64c"
      },
      "source": [
        "name=\"suyash\"\n",
        "print(f\"my name is {name}\")"
      ],
      "execution_count": 2,
      "outputs": [
        {
          "output_type": "stream",
          "text": [
            "my name is suyash\n"
          ],
          "name": "stdout"
        }
      ]
    },
    {
      "cell_type": "code",
      "metadata": {
        "id": "Xy5gamPiZRfV"
      },
      "source": [
        "college=[(\"name\",\"branch\",\"year\"),\n",
        "         (\"suyash\",\"cse\",3),\n",
        "         (\"gajendra\",\"ec\",4)]"
      ],
      "execution_count": 4,
      "outputs": []
    },
    {
      "cell_type": "code",
      "metadata": {
        "colab": {
          "base_uri": "https://localhost:8080/"
        },
        "id": "MNx8lI7bZfMB",
        "outputId": "b9e17e4f-a82e-4bff-820f-b4aff67736d3"
      },
      "source": [
        "for i in college:\n",
        "  print(f\"name is {i[0]}\")"
      ],
      "execution_count": 7,
      "outputs": [
        {
          "output_type": "stream",
          "text": [
            "name is name\n",
            "name is suyash\n",
            "name is gajendra\n"
          ],
          "name": "stdout"
        }
      ]
    },
    {
      "cell_type": "code",
      "metadata": {
        "id": "c_WcLr8fZx9b"
      },
      "source": [
        "from datetime import datetime"
      ],
      "execution_count": 18,
      "outputs": []
    },
    {
      "cell_type": "code",
      "metadata": {
        "colab": {
          "base_uri": "https://localhost:8080/"
        },
        "id": "XaYSz4-aa7CV",
        "outputId": "3eea4a03-fd7f-4740-9d2e-03f8c10e0ee8"
      },
      "source": [
        "present = datetime(year=2020,month=4,day=20)\n",
        "print(present)"
      ],
      "execution_count": 21,
      "outputs": [
        {
          "output_type": "stream",
          "text": [
            "2020-04-20 00:00:00\n"
          ],
          "name": "stdout"
        }
      ]
    },
    {
      "cell_type": "code",
      "metadata": {
        "colab": {
          "base_uri": "https://localhost:8080/"
        },
        "id": "fEOtG1NdbJL_",
        "outputId": "2db4a23f-9341-4bdc-8ab5-f33e3163bd9f"
      },
      "source": [
        "print(f\"{present: %B %d}\")"
      ],
      "execution_count": 28,
      "outputs": [
        {
          "output_type": "stream",
          "text": [
            " April 20\n"
          ],
          "name": "stdout"
        }
      ]
    },
    {
      "cell_type": "code",
      "metadata": {
        "id": "LhtT6_DwbblJ"
      },
      "source": [
        ""
      ],
      "execution_count": null,
      "outputs": []
    }
  ]
}