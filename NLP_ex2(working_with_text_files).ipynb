{
  "nbformat": 4,
  "nbformat_minor": 0,
  "metadata": {
    "colab": {
      "name": "NLP_ex2(working with text files).ipynb",
      "provenance": []
    },
    "kernelspec": {
      "name": "python3",
      "display_name": "Python 3"
    },
    "language_info": {
      "name": "python"
    }
  },
  "cells": [
    {
      "cell_type": "code",
      "metadata": {
        "colab": {
          "base_uri": "https://localhost:8080/"
        },
        "id": "8YPR180Jgcqv",
        "outputId": "da64c211-2afd-471a-c119-c6c093314729"
      },
      "source": [
        "%%writefile sample.txt\n",
        "hello, my name is gajendra goswami\n",
        "i am in AITR\n",
        "cse 6 sem"
      ],
      "execution_count": 3,
      "outputs": [
        {
          "output_type": "stream",
          "text": [
            "Overwriting sample.txt\n"
          ],
          "name": "stdout"
        }
      ]
    },
    {
      "cell_type": "code",
      "metadata": {
        "id": "Kqw6660fgxre"
      },
      "source": [
        "f = open('sample.txt')"
      ],
      "execution_count": 5,
      "outputs": []
    },
    {
      "cell_type": "code",
      "metadata": {
        "colab": {
          "base_uri": "https://localhost:8080/",
          "height": 35
        },
        "id": "-hOqAM_1g1l3",
        "outputId": "812ff1a9-1a72-4801-fa32-5746e9eb01b4"
      },
      "source": [
        "pwd\n"
      ],
      "execution_count": 7,
      "outputs": [
        {
          "output_type": "execute_result",
          "data": {
            "application/vnd.google.colaboratory.intrinsic+json": {
              "type": "string"
            },
            "text/plain": [
              "'/content'"
            ]
          },
          "metadata": {
            "tags": []
          },
          "execution_count": 7
        }
      ]
    },
    {
      "cell_type": "code",
      "metadata": {
        "colab": {
          "base_uri": "https://localhost:8080/"
        },
        "id": "GKTQTEdJg3x7",
        "outputId": "0a753972-35a2-467d-aa5f-6a9a2508e7eb"
      },
      "source": [
        "print(f)"
      ],
      "execution_count": 9,
      "outputs": [
        {
          "output_type": "stream",
          "text": [
            "<_io.TextIOWrapper name='sample.txt' mode='r' encoding='UTF-8'>\n"
          ],
          "name": "stdout"
        }
      ]
    },
    {
      "cell_type": "code",
      "metadata": {
        "colab": {
          "base_uri": "https://localhost:8080/",
          "height": 35
        },
        "id": "cjhhLVr9g7kw",
        "outputId": "6f62c9e5-e07f-4e4e-b5d5-5d18dbd9b298"
      },
      "source": [
        "f.read()"
      ],
      "execution_count": 11,
      "outputs": [
        {
          "output_type": "execute_result",
          "data": {
            "application/vnd.google.colaboratory.intrinsic+json": {
              "type": "string"
            },
            "text/plain": [
              "''"
            ]
          },
          "metadata": {
            "tags": []
          },
          "execution_count": 11
        }
      ]
    },
    {
      "cell_type": "code",
      "metadata": {
        "colab": {
          "base_uri": "https://localhost:8080/"
        },
        "id": "KoTI480hg-KJ",
        "outputId": "ad7dce9a-3b42-47a2-f15f-a2e1fba3a389"
      },
      "source": [
        "f.seek(0)"
      ],
      "execution_count": 13,
      "outputs": [
        {
          "output_type": "execute_result",
          "data": {
            "text/plain": [
              "0"
            ]
          },
          "metadata": {
            "tags": []
          },
          "execution_count": 13
        }
      ]
    },
    {
      "cell_type": "code",
      "metadata": {
        "colab": {
          "base_uri": "https://localhost:8080/"
        },
        "id": "IoCNkEUNhAhj",
        "outputId": "0f7e6484-6910-49c0-f450-f8d1fc896d9a"
      },
      "source": [
        "var1 = f.read()\n",
        "print(var1)"
      ],
      "execution_count": 17,
      "outputs": [
        {
          "output_type": "stream",
          "text": [
            "\n"
          ],
          "name": "stdout"
        }
      ]
    },
    {
      "cell_type": "code",
      "metadata": {
        "colab": {
          "base_uri": "https://localhost:8080/"
        },
        "id": "nQs_sfZthKso",
        "outputId": "a47bf386-9ae7-4eb1-ad5d-0fc5afc9fecf"
      },
      "source": [
        "f.seek(0)"
      ],
      "execution_count": 19,
      "outputs": [
        {
          "output_type": "execute_result",
          "data": {
            "text/plain": [
              "0"
            ]
          },
          "metadata": {
            "tags": []
          },
          "execution_count": 19
        }
      ]
    },
    {
      "cell_type": "code",
      "metadata": {
        "colab": {
          "base_uri": "https://localhost:8080/"
        },
        "id": "9mSvEqBUhOA6",
        "outputId": "35a6533c-e37e-4431-ac9f-481ffdc23188"
      },
      "source": [
        "v = f.read()\n",
        "print(v)"
      ],
      "execution_count": 21,
      "outputs": [
        {
          "output_type": "stream",
          "text": [
            "\n"
          ],
          "name": "stdout"
        }
      ]
    },
    {
      "cell_type": "code",
      "metadata": {
        "id": "W-y_XtuUhTie"
      },
      "source": [
        "f.close()"
      ],
      "execution_count": 23,
      "outputs": []
    },
    {
      "cell_type": "code",
      "metadata": {
        "id": "znDEzWkWhWNb"
      },
      "source": [
        "f= open('sample.txt')"
      ],
      "execution_count": 24,
      "outputs": []
    },
    {
      "cell_type": "code",
      "metadata": {
        "colab": {
          "base_uri": "https://localhost:8080/"
        },
        "id": "rJJRgvh9hZZ0",
        "outputId": "0183475d-a10d-45d8-ecde-023e95e47139"
      },
      "source": [
        "f.readlines()"
      ],
      "execution_count": 26,
      "outputs": [
        {
          "output_type": "execute_result",
          "data": {
            "text/plain": [
              "[]"
            ]
          },
          "metadata": {
            "tags": []
          },
          "execution_count": 26
        }
      ]
    },
    {
      "cell_type": "code",
      "metadata": {
        "colab": {
          "base_uri": "https://localhost:8080/"
        },
        "id": "3VAhVoEXhc26",
        "outputId": "e176f67c-02cc-4a7b-ae76-479e2b0b8caa"
      },
      "source": [
        "f.seek(0)"
      ],
      "execution_count": 27,
      "outputs": [
        {
          "output_type": "execute_result",
          "data": {
            "text/plain": [
              "0"
            ]
          },
          "metadata": {
            "tags": []
          },
          "execution_count": 27
        }
      ]
    },
    {
      "cell_type": "code",
      "metadata": {
        "id": "fldu7u0jhePl"
      },
      "source": [
        "lines= f.readlines()"
      ],
      "execution_count": 28,
      "outputs": []
    },
    {
      "cell_type": "code",
      "metadata": {
        "id": "AEK3rVCShhDr",
        "outputId": "452ce37d-98f8-423c-e3c9-b0e442000154",
        "colab": {
          "base_uri": "https://localhost:8080/"
        }
      },
      "source": [
        "print(lines)"
      ],
      "execution_count": 29,
      "outputs": [
        {
          "output_type": "stream",
          "text": [
            "['hello, my name is gajendra goswami\\n', 'i am in AITR\\n', 'cse 6 sem']\n"
          ],
          "name": "stdout"
        }
      ]
    }
  ]
}