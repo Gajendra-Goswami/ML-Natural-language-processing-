{
  "nbformat": 4,
  "nbformat_minor": 0,
  "metadata": {
    "colab": {
      "name": "NLP_ex6 spacy basics.ipynb",
      "provenance": []
    },
    "kernelspec": {
      "name": "python3",
      "display_name": "Python 3"
    },
    "language_info": {
      "name": "python"
    }
  },
  "cells": [
    {
      "cell_type": "code",
      "metadata": {
        "id": "abnUujoanRPU"
      },
      "source": [
        "import spacy"
      ],
      "execution_count": 1,
      "outputs": []
    },
    {
      "cell_type": "code",
      "metadata": {
        "id": "M-Xs0DKnnW2u"
      },
      "source": [
        "npl = spacy.load('en_core_web_sm')"
      ],
      "execution_count": 2,
      "outputs": []
    },
    {
      "cell_type": "code",
      "metadata": {
        "id": "qTPB8ge6neUE"
      },
      "source": [
        "doc = npl(u\"tesla is looking for U.S based startup for $6 billion\")"
      ],
      "execution_count": 3,
      "outputs": []
    },
    {
      "cell_type": "code",
      "metadata": {
        "colab": {
          "base_uri": "https://localhost:8080/"
        },
        "id": "D4X5vCognq4y",
        "outputId": "88ed9d20-a260-4113-ec2d-445be9d01d51"
      },
      "source": [
        "for token in doc:\n",
        "  print(token.text, token.pos_,token.dep_)"
      ],
      "execution_count": 9,
      "outputs": [
        {
          "output_type": "stream",
          "text": [
            "tesla PROPN nsubj\n",
            "is AUX aux\n",
            "looking VERB ROOT\n",
            "for ADP prep\n",
            "U.S PROPN npadvmod\n",
            "based VERB amod\n",
            "startup NOUN pobj\n",
            "for ADP prep\n",
            "$ SYM quantmod\n",
            "6 NUM compound\n",
            "billion NUM pobj\n"
          ],
          "name": "stdout"
        }
      ]
    },
    {
      "cell_type": "code",
      "metadata": {
        "colab": {
          "base_uri": "https://localhost:8080/"
        },
        "id": "UOJAFEe0nv1F",
        "outputId": "d91fbbb1-78f7-4905-a6ff-578fe645c7d9"
      },
      "source": [
        "npl.pipeline"
      ],
      "execution_count": 11,
      "outputs": [
        {
          "output_type": "execute_result",
          "data": {
            "text/plain": [
              "[('tagger', <spacy.pipeline.pipes.Tagger at 0x7fbcbb4dd6d0>),\n",
              " ('parser', <spacy.pipeline.pipes.DependencyParser at 0x7fbcba8a3d70>),\n",
              " ('ner', <spacy.pipeline.pipes.EntityRecognizer at 0x7fbcba8a3de0>)]"
            ]
          },
          "metadata": {
            "tags": []
          },
          "execution_count": 11
        }
      ]
    },
    {
      "cell_type": "code",
      "metadata": {
        "colab": {
          "base_uri": "https://localhost:8080/"
        },
        "id": "BnTH278ioDmi",
        "outputId": "71455c85-d10a-4de5-fc1c-6bbd9b68e5b3"
      },
      "source": [
        "npl.pipe_names"
      ],
      "execution_count": 12,
      "outputs": [
        {
          "output_type": "execute_result",
          "data": {
            "text/plain": [
              "['tagger', 'parser', 'ner']"
            ]
          },
          "metadata": {
            "tags": []
          },
          "execution_count": 12
        }
      ]
    },
    {
      "cell_type": "code",
      "metadata": {
        "id": "0sJSKv3GoOcp"
      },
      "source": [
        ""
      ],
      "execution_count": null,
      "outputs": []
    }
  ]
}