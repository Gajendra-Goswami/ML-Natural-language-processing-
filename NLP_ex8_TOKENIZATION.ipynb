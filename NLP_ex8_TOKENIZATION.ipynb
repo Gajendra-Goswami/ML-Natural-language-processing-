{
  "nbformat": 4,
  "nbformat_minor": 0,
  "metadata": {
    "colab": {
      "name": "NLP_ex8 TOKENIZATION.ipynb",
      "provenance": []
    },
    "kernelspec": {
      "name": "python3",
      "display_name": "Python 3"
    },
    "language_info": {
      "name": "python"
    }
  },
  "cells": [
    {
      "cell_type": "code",
      "metadata": {
        "id": "X6ZRMjH91FfE"
      },
      "source": [
        "import spacy"
      ],
      "execution_count": 1,
      "outputs": []
    },
    {
      "cell_type": "code",
      "metadata": {
        "id": "2m0Im3gZ1a9d"
      },
      "source": [
        "nlp = spacy.load('en_core_web_sm')"
      ],
      "execution_count": 2,
      "outputs": []
    },
    {
      "cell_type": "code",
      "metadata": {
        "id": "u26E_CVh1kMQ"
      },
      "source": [
        "txt1 = '\"we\\'re moving to A.P!\"'"
      ],
      "execution_count": 5,
      "outputs": []
    },
    {
      "cell_type": "code",
      "metadata": {
        "colab": {
          "base_uri": "https://localhost:8080/"
        },
        "id": "L_ISWVDc1trG",
        "outputId": "1d5bfb07-0e19-4517-bec0-072e18e412a4"
      },
      "source": [
        "print(txt1)"
      ],
      "execution_count": 6,
      "outputs": [
        {
          "output_type": "stream",
          "text": [
            "\"we're moving to A.P!\"\n"
          ],
          "name": "stdout"
        }
      ]
    },
    {
      "cell_type": "code",
      "metadata": {
        "id": "ycHWOwu61yaJ"
      },
      "source": [
        "doc = nlp(txt1)"
      ],
      "execution_count": 7,
      "outputs": []
    },
    {
      "cell_type": "code",
      "metadata": {
        "colab": {
          "base_uri": "https://localhost:8080/"
        },
        "id": "iCkpuOdS2FRc",
        "outputId": "2466b521-afb4-4925-b86d-51bfe745f212"
      },
      "source": [
        "for token in doc:\n",
        "  print(token.text)"
      ],
      "execution_count": 8,
      "outputs": [
        {
          "output_type": "stream",
          "text": [
            "\"\n",
            "we\n",
            "'re\n",
            "moving\n",
            "to\n",
            "A.P\n",
            "!\n",
            "\"\n"
          ],
          "name": "stdout"
        }
      ]
    },
    {
      "cell_type": "code",
      "metadata": {
        "id": "CJbX4DAV2LiF"
      },
      "source": [
        "doc2 = nlp(\"we're here to help ! send snail-mail,email sg@gmail.com or visit us at https://www.google.com\")"
      ],
      "execution_count": 9,
      "outputs": []
    },
    {
      "cell_type": "code",
      "metadata": {
        "colab": {
          "base_uri": "https://localhost:8080/"
        },
        "id": "vnf4wBeW2qD6",
        "outputId": "b2db34db-6c6a-4b45-d091-544b60797fc8"
      },
      "source": [
        "for token in doc2:\n",
        "  print(token)"
      ],
      "execution_count": 10,
      "outputs": [
        {
          "output_type": "stream",
          "text": [
            "we\n",
            "'re\n",
            "here\n",
            "to\n",
            "help\n",
            "!\n",
            "send\n",
            "snail\n",
            "-\n",
            "mail\n",
            ",\n",
            "email\n",
            "sg@gmail.com\n",
            "or\n",
            "visit\n",
            "us\n",
            "at\n",
            "https://www.google.com\n"
          ],
          "name": "stdout"
        }
      ]
    },
    {
      "cell_type": "code",
      "metadata": {
        "id": "ejtughTK2vYU"
      },
      "source": [
        "doc3 = nlp(\"a 5km cab ride costs $100\")"
      ],
      "execution_count": 15,
      "outputs": []
    },
    {
      "cell_type": "code",
      "metadata": {
        "colab": {
          "base_uri": "https://localhost:8080/"
        },
        "id": "FeM3r04Z3KCA",
        "outputId": "5b499f87-40f7-410e-fc7e-dfa51a18b330"
      },
      "source": [
        "for token in doc3:\n",
        "  print(token)"
      ],
      "execution_count": 16,
      "outputs": [
        {
          "output_type": "stream",
          "text": [
            "a\n",
            "5\n",
            "km\n",
            "cab\n",
            "ride\n",
            "costs\n",
            "$\n",
            "100\n"
          ],
          "name": "stdout"
        }
      ]
    },
    {
      "cell_type": "code",
      "metadata": {
        "id": "sQCDrkJu3Nvg"
      },
      "source": [
        "doc4 = nlp(\"let's visit st. louis in the U.S. next year\")"
      ],
      "execution_count": 17,
      "outputs": []
    },
    {
      "cell_type": "code",
      "metadata": {
        "colab": {
          "base_uri": "https://localhost:8080/"
        },
        "id": "VD56xb9A3j1Q",
        "outputId": "b5eaf69d-3671-41bb-99e6-bbb8b8bd1e6e"
      },
      "source": [
        "for t in doc4:\n",
        "  print(t)"
      ],
      "execution_count": 18,
      "outputs": [
        {
          "output_type": "stream",
          "text": [
            "let\n",
            "'s\n",
            "visit\n",
            "st\n",
            ".\n",
            "louis\n",
            "in\n",
            "the\n",
            "U.S.\n",
            "next\n",
            "year\n"
          ],
          "name": "stdout"
        }
      ]
    },
    {
      "cell_type": "code",
      "metadata": {
        "colab": {
          "base_uri": "https://localhost:8080/"
        },
        "id": "CrcjtSeW3mnA",
        "outputId": "a66b3a43-d17b-4fd7-d6bb-fbaa98e4df09"
      },
      "source": [
        "len(doc4)"
      ],
      "execution_count": 19,
      "outputs": [
        {
          "output_type": "execute_result",
          "data": {
            "text/plain": [
              "11"
            ]
          },
          "metadata": {
            "tags": []
          },
          "execution_count": 19
        }
      ]
    },
    {
      "cell_type": "code",
      "metadata": {
        "colab": {
          "base_uri": "https://localhost:8080/"
        },
        "id": "vWtzwOCc3rE9",
        "outputId": "45c97d5a-8f1a-4c49-e60e-c6baf486614f"
      },
      "source": [
        "doc4.vocab"
      ],
      "execution_count": 20,
      "outputs": [
        {
          "output_type": "execute_result",
          "data": {
            "text/plain": [
              "<spacy.vocab.Vocab at 0x7f33d326a5f0>"
            ]
          },
          "metadata": {
            "tags": []
          },
          "execution_count": 20
        }
      ]
    },
    {
      "cell_type": "code",
      "metadata": {
        "id": "bJ4Nwa593ult"
      },
      "source": [
        ""
      ],
      "execution_count": null,
      "outputs": []
    }
  ]
}