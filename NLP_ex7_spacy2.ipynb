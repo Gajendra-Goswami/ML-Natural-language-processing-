{
  "nbformat": 4,
  "nbformat_minor": 0,
  "metadata": {
    "colab": {
      "name": "NLP_ex7 spacy2.ipynb",
      "provenance": []
    },
    "kernelspec": {
      "name": "python3",
      "display_name": "Python 3"
    },
    "language_info": {
      "name": "python"
    }
  },
  "cells": [
    {
      "cell_type": "code",
      "metadata": {
        "id": "7x0KoQLZobjK"
      },
      "source": [
        "import spacy"
      ],
      "execution_count": 1,
      "outputs": []
    },
    {
      "cell_type": "code",
      "metadata": {
        "id": "lgIb-GN3ovdB"
      },
      "source": [
        "nlp = spacy.load('en_core_web_sm')"
      ],
      "execution_count": 4,
      "outputs": []
    },
    {
      "cell_type": "code",
      "metadata": {
        "id": "jFXxB7zyo2Dm"
      },
      "source": [
        "txt2 = nlp(u\"suyash goswami isn't my nick name\")"
      ],
      "execution_count": 5,
      "outputs": []
    },
    {
      "cell_type": "code",
      "metadata": {
        "colab": {
          "base_uri": "https://localhost:8080/"
        },
        "id": "3uelhbaqyuN1",
        "outputId": "7511241b-b971-4666-855f-e91547d46ee6"
      },
      "source": [
        "for token in txt2:\n",
        "  print(token.text,token.pos_, token.dep_)"
      ],
      "execution_count": 7,
      "outputs": [
        {
          "output_type": "stream",
          "text": [
            "suyash PROPN compound\n",
            "goswami PROPN nsubj\n",
            "is AUX ROOT\n",
            "n't PART neg\n",
            "my DET poss\n",
            "nick PROPN compound\n",
            "name NOUN attr\n"
          ],
          "name": "stdout"
        }
      ]
    },
    {
      "cell_type": "code",
      "metadata": {
        "colab": {
          "base_uri": "https://localhost:8080/"
        },
        "id": "KKCQAbjVy9lO",
        "outputId": "52998fa1-f6e6-48e0-a424-9461e5746386"
      },
      "source": [
        "txt2[0].pos"
      ],
      "execution_count": 8,
      "outputs": [
        {
          "output_type": "execute_result",
          "data": {
            "text/plain": [
              "96"
            ]
          },
          "metadata": {
            "tags": []
          },
          "execution_count": 8
        }
      ]
    },
    {
      "cell_type": "code",
      "metadata": {
        "colab": {
          "base_uri": "https://localhost:8080/"
        },
        "id": "fr2D7zA4zF-H",
        "outputId": "f7926433-fa11-4af6-e1e7-d2674b65f76d"
      },
      "source": [
        "txt2[0]"
      ],
      "execution_count": 10,
      "outputs": [
        {
          "output_type": "execute_result",
          "data": {
            "text/plain": [
              "suyash"
            ]
          },
          "metadata": {
            "tags": []
          },
          "execution_count": 10
        }
      ]
    },
    {
      "cell_type": "code",
      "metadata": {
        "colab": {
          "base_uri": "https://localhost:8080/",
          "height": 35
        },
        "id": "OO2EeLAlzHso",
        "outputId": "c16c54ac-4215-450b-fd83-30c159c94ada"
      },
      "source": [
        "txt2[0].pos_"
      ],
      "execution_count": 11,
      "outputs": [
        {
          "output_type": "execute_result",
          "data": {
            "application/vnd.google.colaboratory.intrinsic+json": {
              "type": "string"
            },
            "text/plain": [
              "'PROPN'"
            ]
          },
          "metadata": {
            "tags": []
          },
          "execution_count": 11
        }
      ]
    },
    {
      "cell_type": "code",
      "metadata": {
        "colab": {
          "base_uri": "https://localhost:8080/",
          "height": 35
        },
        "id": "CIrEqXiizNZw",
        "outputId": "759dd579-94b6-4d29-fbeb-662ccd33865a"
      },
      "source": [
        "txt2[0].dep_"
      ],
      "execution_count": 12,
      "outputs": [
        {
          "output_type": "execute_result",
          "data": {
            "application/vnd.google.colaboratory.intrinsic+json": {
              "type": "string"
            },
            "text/plain": [
              "'compound'"
            ]
          },
          "metadata": {
            "tags": []
          },
          "execution_count": 12
        }
      ]
    },
    {
      "cell_type": "code",
      "metadata": {
        "id": "Kp_0QvqWzR3S"
      },
      "source": [
        "txt3 = nlp(u\"make sure suyash 'dreams dont work unless you do'got it\")"
      ],
      "execution_count": 14,
      "outputs": []
    },
    {
      "cell_type": "code",
      "metadata": {
        "id": "hLV-7CUJzcRd"
      },
      "source": [
        "quote = txt3[4:11]"
      ],
      "execution_count": 21,
      "outputs": []
    },
    {
      "cell_type": "code",
      "metadata": {
        "colab": {
          "base_uri": "https://localhost:8080/"
        },
        "id": "9AdaV1-FzuEx",
        "outputId": "54934fb0-4f42-414f-cd10-037f632a9290"
      },
      "source": [
        "print(quote)"
      ],
      "execution_count": 22,
      "outputs": [
        {
          "output_type": "stream",
          "text": [
            "dreams dont work unless you do'got\n"
          ],
          "name": "stdout"
        }
      ]
    },
    {
      "cell_type": "code",
      "metadata": {
        "colab": {
          "base_uri": "https://localhost:8080/"
        },
        "id": "fgZ_F_9RzwVl",
        "outputId": "c2892497-52c0-4095-dbce-d44707cb8b66"
      },
      "source": [
        "type(quote)"
      ],
      "execution_count": 23,
      "outputs": [
        {
          "output_type": "execute_result",
          "data": {
            "text/plain": [
              "spacy.tokens.span.Span"
            ]
          },
          "metadata": {
            "tags": []
          },
          "execution_count": 23
        }
      ]
    },
    {
      "cell_type": "code",
      "metadata": {
        "colab": {
          "base_uri": "https://localhost:8080/"
        },
        "id": "5oEu_mQ60LBB",
        "outputId": "3ca1228b-2d40-4007-db8b-c0ec49e0d891"
      },
      "source": [
        "type(txt3)"
      ],
      "execution_count": 24,
      "outputs": [
        {
          "output_type": "execute_result",
          "data": {
            "text/plain": [
              "spacy.tokens.doc.Doc"
            ]
          },
          "metadata": {
            "tags": []
          },
          "execution_count": 24
        }
      ]
    },
    {
      "cell_type": "code",
      "metadata": {
        "colab": {
          "base_uri": "https://localhost:8080/"
        },
        "id": "DgoGaVvl0NYO",
        "outputId": "b6ebc0fc-0e0e-4858-fe65-9d16f587a433"
      },
      "source": [
        "txt4 = nlp(u\"this is first line. this is second line. this is third line.\")\n",
        "for sentence in txt4.sents:\n",
        "  print(sentence)"
      ],
      "execution_count": 27,
      "outputs": [
        {
          "output_type": "stream",
          "text": [
            "this is first line.\n",
            "this is second line.\n",
            "this is third line.\n"
          ],
          "name": "stdout"
        }
      ]
    },
    {
      "cell_type": "code",
      "metadata": {
        "colab": {
          "base_uri": "https://localhost:8080/"
        },
        "id": "euAYUVE40l7Z",
        "outputId": "244cd38b-dd77-4749-af56-cd8887e71acf"
      },
      "source": [
        "txt4[0]"
      ],
      "execution_count": 28,
      "outputs": [
        {
          "output_type": "execute_result",
          "data": {
            "text/plain": [
              "this"
            ]
          },
          "metadata": {
            "tags": []
          },
          "execution_count": 28
        }
      ]
    },
    {
      "cell_type": "code",
      "metadata": {
        "colab": {
          "base_uri": "https://localhost:8080/"
        },
        "id": "-Jmo9WqR0tSh",
        "outputId": "510dcadc-ad44-4224-fcad-70c91b6c775d"
      },
      "source": [
        "txt4[1]"
      ],
      "execution_count": 30,
      "outputs": [
        {
          "output_type": "execute_result",
          "data": {
            "text/plain": [
              "is"
            ]
          },
          "metadata": {
            "tags": []
          },
          "execution_count": 30
        }
      ]
    },
    {
      "cell_type": "code",
      "metadata": {
        "colab": {
          "base_uri": "https://localhost:8080/"
        },
        "id": "4izooq_P0vMu",
        "outputId": "bdf2633e-0873-4564-9bef-6168211e60d7"
      },
      "source": [
        "txt4[5].is_sent_start"
      ],
      "execution_count": 32,
      "outputs": [
        {
          "output_type": "execute_result",
          "data": {
            "text/plain": [
              "True"
            ]
          },
          "metadata": {
            "tags": []
          },
          "execution_count": 32
        }
      ]
    },
    {
      "cell_type": "code",
      "metadata": {
        "id": "HdcBDemS0205"
      },
      "source": [
        ""
      ],
      "execution_count": null,
      "outputs": []
    }
  ]
}